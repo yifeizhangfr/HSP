{
 "cells": [
  {
   "cell_type": "code",
   "execution_count": 1,
   "id": "a490f7a0-cb6d-4048-87e6-3fa66ee45232",
   "metadata": {},
   "outputs": [],
   "source": [
    "import tensorflow as tf\n",
    "from tensorflow import keras\n",
    "import numpy as np\n",
    "from matplotlib import pyplot\n",
    "from keras.models import model_from_json\n",
    "import os"
   ]
  },
  {
   "cell_type": "code",
   "execution_count": 2,
   "id": "93d3031b-4533-4aec-a39f-02e28c2e70a7",
   "metadata": {},
   "outputs": [
    {
     "data": {
      "text/plain": [
       "(60000, 28, 28)"
      ]
     },
     "execution_count": 2,
     "metadata": {},
     "output_type": "execute_result"
    }
   ],
   "source": [
    "(train_x, train_y), (test_x, test_y) = keras.datasets.mnist.load_data()\n",
    "train_x = train_x / 255.0\n",
    "test_x = test_x / 255.0\n",
    "train_x.shape"
   ]
  },
  {
   "cell_type": "code",
   "execution_count": 3,
   "id": "f25fabb6-19d5-49a4-9598-085544a8aab2",
   "metadata": {},
   "outputs": [
    {
     "data": {
      "text/plain": [
       "TensorShape([60000, 28, 28, 1])"
      ]
     },
     "execution_count": 3,
     "metadata": {},
     "output_type": "execute_result"
    }
   ],
   "source": [
    "train_x = tf.expand_dims(train_x, 3)\n",
    "test_x = tf.expand_dims(test_x, 3)\n",
    "val_x = train_x[:5000]\n",
    "val_y = train_y[:5000]\n",
    "train_x.shape"
   ]
  },
  {
   "cell_type": "code",
   "execution_count": 4,
   "id": "932346b8-8227-448e-aa93-8912ca971962",
   "metadata": {},
   "outputs": [],
   "source": [
    "lenet_5_model = keras.models.Sequential([\n",
    "    keras.layers.Conv2D(6, kernel_size=5, strides=1,  activation='tanh', input_shape=train_x[0].shape, padding='same'), #C1\n",
    "    keras.layers.AveragePooling2D(), #S2\n",
    "    keras.layers.Conv2D(16, kernel_size=5, strides=1, activation='tanh', padding='valid'), #C3\n",
    "    keras.layers.AveragePooling2D(), #S4\n",
    "    keras.layers.Flatten(), #Flatten\n",
    "    keras.layers.Dense(120, activation='tanh'), #C5\n",
    "    keras.layers.Dense(84, activation='tanh'), #F6\n",
    "    keras.layers.Dense(10, activation='softmax') #Output layer\n",
    "])"
   ]
  },
  {
   "cell_type": "code",
   "execution_count": 5,
   "id": "0f9c7fb0-964d-4279-8347-1533097d7c66",
   "metadata": {},
   "outputs": [],
   "source": [
    "lenet_5_model.compile(optimizer='adam',loss=keras.losses.sparse_categorical_crossentropy, metrics=['accuracy'])"
   ]
  },
  {
   "cell_type": "code",
   "execution_count": 6,
   "id": "c1dadc66-075f-4398-9849-4dc87647163f",
   "metadata": {},
   "outputs": [
    {
     "name": "stdout",
     "output_type": "stream",
     "text": [
      "Epoch 1/5\n",
      "1875/1875 [==============================] - 14s 7ms/step - loss: 0.2228 - accuracy: 0.9327 - val_loss: 0.0834 - val_accuracy: 0.9776\n",
      "Epoch 2/5\n",
      "1875/1875 [==============================] - 13s 7ms/step - loss: 0.0829 - accuracy: 0.9746 - val_loss: 0.0537 - val_accuracy: 0.9850\n",
      "Epoch 3/5\n",
      "1875/1875 [==============================] - 13s 7ms/step - loss: 0.0586 - accuracy: 0.9814 - val_loss: 0.0429 - val_accuracy: 0.9856\n",
      "Epoch 4/5\n",
      "1875/1875 [==============================] - 13s 7ms/step - loss: 0.0444 - accuracy: 0.9856 - val_loss: 0.0258 - val_accuracy: 0.9920\n",
      "Epoch 5/5\n",
      "1875/1875 [==============================] - 13s 7ms/step - loss: 0.0353 - accuracy: 0.9890 - val_loss: 0.0307 - val_accuracy: 0.9898\n"
     ]
    },
    {
     "data": {
      "text/plain": [
       "<keras.callbacks.History at 0x7fef72e47cd0>"
      ]
     },
     "execution_count": 6,
     "metadata": {},
     "output_type": "execute_result"
    }
   ],
   "source": [
    "lenet_5_model.fit(train_x, train_y, epochs=5, validation_data=(val_x, val_y))"
   ]
  },
  {
   "cell_type": "code",
   "execution_count": 7,
   "id": "b9886896-43dc-4831-a595-7f040928b87f",
   "metadata": {},
   "outputs": [
    {
     "name": "stdout",
     "output_type": "stream",
     "text": [
      "313/313 [==============================] - 1s 3ms/step - loss: 0.0552 - accuracy: 0.9833\n"
     ]
    },
    {
     "data": {
      "text/plain": [
       "[0.05518694967031479, 0.983299970626831]"
      ]
     },
     "execution_count": 7,
     "metadata": {},
     "output_type": "execute_result"
    }
   ],
   "source": [
    "lenet_5_model.evaluate(test_x, test_y)"
   ]
  },
  {
   "cell_type": "code",
   "execution_count": 8,
   "id": "e6e8ca62-f863-4e73-acac-25cd7c8d91f9",
   "metadata": {},
   "outputs": [
    {
     "data": {
      "image/png": "[encoded data removed]",
      "text/plain": [
       "<Figure size 432x288 with 1 Axes>"
      ]
     },
     "metadata": {
      "needs_background": "light"
     },
     "output_type": "display_data"
    },
    {
     "data": {
      "image/png": "[encoded data removed]",
      "text/plain": [
       "<Figure size 432x288 with 1 Axes>"
      ]
     },
     "metadata": {
      "needs_background": "light"
     },
     "output_type": "display_data"
    },
    {
     "data": {
      "image/png": "[encoded data removed]",
      "text/plain": [
       "<Figure size 432x288 with 1 Axes>"
      ]
     },
     "metadata": {
      "needs_background": "light"
     },
     "output_type": "display_data"
    }
   ],
   "source": [
    "for i in range(3):  \n",
    "    pyplot.subplot(330 + 1 + i)\n",
    "    pyplot.imshow(train_x[i], cmap=pyplot.get_cmap('gray'))\n",
    "    pyplot.show()"
   ]
  },
  {
   "cell_type": "code",
   "execution_count": 9,
   "id": "329cc15c-9b02-462d-b4e3-5b9d4c765bd8",
   "metadata": {},
   "outputs": [
    {
     "name": "stdout",
     "output_type": "stream",
     "text": [
      "INFO:tensorflow:Assets written to: lenet_5_model/assets\n",
      "['saved_model.pb', 'variables', 'keras_metadata.pb', 'assets']\n"
     ]
    }
   ],
   "source": [
    "lenet_5_model.save('lenet_5_model')\n",
    "print(os.listdir('lenet_5_model'))"
   ]
  },
  {
   "cell_type": "code",
   "execution_count": 10,
   "id": "d883f56b-b134-4d81-aedb-1a0213cf2e5a",
   "metadata": {},
   "outputs": [],
   "source": [
    "lenet_5_model.save(\"my.h5\")"
   ]
  },
  {
   "cell_type": "code",
   "execution_count": 11,
   "id": "e4039b16-8b65-4686-8e77-d8933555c2b1",
   "metadata": {},
   "outputs": [
    {
     "name": "stdout",
     "output_type": "stream",
     "text": [
      "Model: \"sequential\"\n",
      "_________________________________________________________________\n",
      " Layer (type)                Output Shape              Param #   \n",
      "=================================================================\n",
      " conv2d (Conv2D)             (None, 28, 28, 6)         156       \n",
      "                                                                 \n",
      " average_pooling2d (AverageP  (None, 14, 14, 6)        0         \n",
      " ooling2D)                                                       \n",
      "                                                                 \n",
      " conv2d_1 (Conv2D)           (None, 10, 10, 16)        2416      \n",
      "                                                                 \n",
      " average_pooling2d_1 (Averag  (None, 5, 5, 16)         0         \n",
      " ePooling2D)                                                     \n",
      "                                                                 \n",
      " flatten (Flatten)           (None, 400)               0         \n",
      "                                                                 \n",
      " dense (Dense)               (None, 120)               48120     \n",
      "                                                                 \n",
      " dense_1 (Dense)             (None, 84)                10164     \n",
      "                                                                 \n",
      " dense_2 (Dense)             (None, 10)                850       \n",
      "                                                                 \n",
      "=================================================================\n",
      "Total params: 61,706\n",
      "Trainable params: 61,706\n",
      "Non-trainable params: 0\n",
      "_________________________________________________________________\n"
     ]
    }
   ],
   "source": [
    "lenet_5_model.summary()"
   ]
  },
  {
   "cell_type": "code",
   "execution_count": 40,
   "id": "24d1a878-c7a2-4688-9dca-35ab8c5edd2c",
   "metadata": {},
   "outputs": [],
   "source": [
    "json_model = lenet_5_model.to_json()"
   ]
  },
  {
   "cell_type": "code",
   "execution_count": 41,
   "id": "c3a3b789-e537-4677-931e-6688b2786be7",
   "metadata": {},
   "outputs": [],
   "source": [
    "with open('fashionmnist_model.json', 'w') as json_file:\n",
    "    json_file.write(json_model)"
   ]
  },
  {
   "cell_type": "code",
   "execution_count": 42,
   "id": "14bd5eec-4991-4eed-ac6e-4d6d126a167d",
   "metadata": {},
   "outputs": [],
   "source": [
    "lenet_5_model.save_weights('FashionMNIST_weights.h5')"
   ]
  },
  {
   "cell_type": "code",
   "execution_count": 96,
   "id": "929aed57-808a-4df6-a9f7-ce9eec9d4ba1",
   "metadata": {},
   "outputs": [
    {
     "data": {
      "text/plain": [
       "[array([[[[-6.04243651e-02,  1.72588035e-01, -6.94183931e-02, ...,\n",
       "            3.52107771e-02,  7.52414018e-02, -3.57712992e-02],\n",
       "          [-1.04009137e-01, -2.11325400e-02,  1.90630525e-01, ...,\n",
       "            1.95351504e-02,  1.68472305e-01, -6.94724768e-02],\n",
       "          [ 8.74496764e-04, -1.09834857e-01,  9.93049145e-02, ...,\n",
       "            2.37184182e-01, -9.10815522e-02,  1.48030266e-01],\n",
       "          [-1.26971319e-01,  2.48234615e-01, -1.19278513e-01, ...,\n",
       "           -8.31483379e-02, -1.60210766e-02, -1.49295181e-01],\n",
       "          [-6.43436313e-02, -6.50656223e-02, -1.35661930e-01, ...,\n",
       "           -1.92142695e-01, -9.90023389e-02, -5.64299859e-02],\n",
       "          [-7.16623664e-02, -2.17968032e-01,  1.34012148e-01, ...,\n",
       "           -4.31144722e-02, -8.92032832e-02,  7.40446001e-02]],\n",
       " \n",
       "         [[-1.26462340e-01,  8.31222683e-02, -6.66276366e-02, ...,\n",
       "           -2.52762958e-02,  9.79679227e-02, -4.35573459e-02],\n",
       "          [-8.69327262e-02, -9.32641327e-02,  1.23002045e-01, ...,\n",
       "            1.12148494e-01, -1.79513648e-01, -5.81402071e-02],\n",
       "          [ 1.35084316e-02,  4.36636806e-02, -1.60815731e-01, ...,\n",
       "            9.96576697e-02, -2.67240088e-02, -4.74708602e-02],\n",
       "          [-5.51093519e-02,  3.42386663e-02, -4.11937498e-02, ...,\n",
       "            8.52476060e-02, -1.21154934e-02,  3.20937634e-02],\n",
       "          [ 6.87675327e-02, -9.82594267e-02,  7.63374045e-02, ...,\n",
       "           -1.33547008e-01, -2.42197197e-02, -3.50391753e-02],\n",
       "          [-7.24663138e-02, -1.56093299e-01,  2.44462818e-01, ...,\n",
       "            1.31012216e-01, -1.32842034e-01, -9.97181702e-03]],\n",
       " \n",
       "         [[-1.38449008e-02,  1.12065732e-01, -1.97058134e-02, ...,\n",
       "           -1.18847638e-01,  1.74965233e-01,  3.27939913e-02],\n",
       "          [ 1.14397705e-01,  3.93151753e-02, -2.58617043e-01, ...,\n",
       "            2.38326155e-02, -2.86700428e-01, -7.93410987e-02],\n",
       "          [ 7.02587739e-02,  7.46568106e-03, -1.77800059e-02, ...,\n",
       "           -6.25750050e-02, -3.08390881e-05, -1.97603673e-01],\n",
       "          [ 1.66325122e-01,  1.00310765e-01, -3.77316535e-01, ...,\n",
       "           -1.50042951e-01,  9.43038166e-02,  1.81609206e-02],\n",
       "          [-7.92638510e-02, -1.17649108e-01,  7.34147877e-02, ...,\n",
       "           -1.03003860e-01,  1.92948490e-01,  1.39434487e-01],\n",
       "          [ 6.13532849e-02, -1.11899907e-02,  1.55551508e-01, ...,\n",
       "            2.30772272e-02, -1.44914035e-02,  3.87033187e-02]],\n",
       " \n",
       "         [[-6.20514862e-02,  2.21504737e-02,  1.14215098e-01, ...,\n",
       "           -1.47712559e-01,  1.29094392e-01,  6.52755052e-02],\n",
       "          [ 2.27468595e-01,  7.40700914e-03, -1.50385842e-01, ...,\n",
       "           -3.04685952e-03, -1.74036786e-01,  7.76313711e-03],\n",
       "          [-7.08286762e-02,  1.17835075e-01,  1.73780143e-01, ...,\n",
       "           -2.45480761e-01,  8.42367411e-02, -2.88275126e-02],\n",
       "          [ 2.09774062e-01,  1.21380329e-01, -2.26759091e-01, ...,\n",
       "           -1.32674769e-01,  2.68088520e-01, -1.63411856e-01],\n",
       "          [-7.21383840e-02, -1.85984045e-01, -2.81353116e-01, ...,\n",
       "            1.05725951e-01,  1.93111241e-01,  7.10310787e-02],\n",
       "          [ 4.87829372e-02, -2.05399841e-02, -5.93129620e-02, ...,\n",
       "            1.56377740e-02, -4.01631743e-02, -7.76837170e-02]],\n",
       " \n",
       "         [[ 2.09395066e-02,  5.14872037e-02,  4.46223828e-04, ...,\n",
       "           -1.60987321e-02,  1.33320883e-01, -6.11699261e-02],\n",
       "          [-1.01231605e-01,  9.79206264e-02, -1.40621737e-01, ...,\n",
       "           -8.30931291e-02, -1.99307084e-01, -1.92976315e-02],\n",
       "          [-1.68542728e-01,  2.07195237e-01,  8.56709667e-03, ...,\n",
       "           -9.31076184e-02,  6.19121455e-03,  4.48130742e-02],\n",
       "          [ 1.05108623e-03,  1.15589947e-01, -2.22886857e-02, ...,\n",
       "           -4.16103825e-02,  2.70582289e-01, -8.04916099e-02],\n",
       "          [ 2.72013247e-01, -2.95694917e-01, -3.83706838e-02, ...,\n",
       "            2.14267205e-02,  3.81271131e-02, -1.54682873e-02],\n",
       "          [-1.55049264e-01,  1.09405648e-02, -5.89203425e-02, ...,\n",
       "           -1.25934497e-01, -1.91901445e-01,  4.02747234e-03]]],\n",
       " \n",
       " \n",
       "        [[[ 6.18666820e-02,  1.77547082e-01, -1.59981385e-01, ...,\n",
       "           -9.25448015e-02,  7.09472150e-02,  2.87756715e-02],\n",
       "          [ 1.60220876e-01, -1.93900794e-01,  5.38592786e-02, ...,\n",
       "            8.19302648e-02, -1.36720181e-01,  5.43707795e-02],\n",
       "          [-7.05661476e-02,  2.46872872e-01,  1.23224735e-01, ...,\n",
       "            1.99695766e-01, -1.13649545e-02,  2.51126677e-01],\n",
       "          [-3.82182337e-02,  1.63112618e-02, -2.30452910e-01, ...,\n",
       "            2.68395655e-02, -2.18073443e-01,  8.69550779e-02],\n",
       "          [ 4.15179022e-02, -9.58591104e-02, -2.18581244e-01, ...,\n",
       "           -1.70856640e-01,  1.47090489e-02, -4.51861881e-02],\n",
       "          [-1.05944900e-02, -9.26406607e-02,  2.38640502e-01, ...,\n",
       "           -8.41871649e-02, -8.78764689e-02,  7.38647655e-02]],\n",
       " \n",
       "         [[ 2.37628678e-03,  9.93223265e-02, -2.63356771e-02, ...,\n",
       "           -1.11753970e-01,  1.73068792e-01, -2.32940465e-02],\n",
       "          [ 8.52174386e-02, -8.80471841e-02, -9.20297578e-03, ...,\n",
       "            2.24598721e-01, -7.57154375e-02,  3.44756365e-01],\n",
       "          [-3.70302470e-03,  1.54701069e-01, -3.25591713e-01, ...,\n",
       "           -1.60601765e-01,  1.00009285e-01,  1.51035432e-02],\n",
       "          [ 1.51539415e-01,  1.57964587e-01, -4.22380745e-01, ...,\n",
       "            1.11649178e-01, -5.34870848e-02,  2.80638516e-01],\n",
       "          [ 1.13459378e-01, -1.02981664e-01,  1.01816446e-01, ...,\n",
       "           -7.23265186e-02,  1.35062784e-01, -4.57555465e-02],\n",
       "          [-1.35090590e-01, -8.42127502e-02,  2.18457401e-01, ...,\n",
       "            8.63728449e-02, -7.15801269e-02,  2.22516611e-01]],\n",
       " \n",
       "         [[ 1.01113953e-01,  6.18878044e-02,  1.20450750e-01, ...,\n",
       "           -1.64685130e-01,  1.46492958e-01, -2.34667026e-02],\n",
       "          [ 1.19450673e-01,  9.50897932e-02, -5.02952337e-01, ...,\n",
       "            7.67029524e-02, -9.58925113e-02,  1.37527913e-01],\n",
       "          [ 2.60192081e-02, -1.85030371e-01,  1.82297155e-01, ...,\n",
       "           -5.18209226e-02, -4.61070299e-01, -2.54163563e-01],\n",
       "          [ 1.65838018e-01,  2.68099338e-01, -3.48181814e-01, ...,\n",
       "           -6.85275868e-02,  3.94033372e-01,  2.89814979e-01],\n",
       "          [-4.27019075e-02,  3.59747589e-01, -1.16672963e-01, ...,\n",
       "           -5.65288700e-02,  5.44794202e-01,  2.00876355e-01],\n",
       "          [-3.95094901e-02,  1.28867785e-02, -9.77881327e-02, ...,\n",
       "           -4.44009341e-02, -1.63612694e-01,  1.92147806e-01]],\n",
       " \n",
       "         [[-1.05502680e-01,  7.56821036e-02,  1.50031641e-01, ...,\n",
       "           -3.76146380e-03,  1.42490208e-01, -2.78692655e-02],\n",
       "          [ 1.17841706e-01, -3.12372427e-02, -1.46054132e-02, ...,\n",
       "            2.11204477e-02, -1.39632776e-01,  2.88354784e-01],\n",
       "          [ 2.31796950e-01, -1.96527004e-01,  3.06753159e-01, ...,\n",
       "           -1.67722747e-01, -4.34560269e-01, -2.35353544e-01],\n",
       "          [-7.19876811e-02,  1.31013006e-01,  5.22849672e-02, ...,\n",
       "            8.51396918e-02,  5.18257022e-01,  1.02355026e-01],\n",
       "          [-2.55975187e-01,  3.86373043e-01, -2.28193015e-01, ...,\n",
       "            2.43894607e-02,  5.34116209e-01,  1.63098916e-01],\n",
       "          [ 1.74313679e-01, -1.18838146e-01, -1.19457416e-01, ...,\n",
       "            3.54312267e-03, -2.02592835e-01,  8.04702491e-02]],\n",
       " \n",
       "         [[-5.27812801e-02,  6.98212311e-02,  1.37316123e-01, ...,\n",
       "           -8.04033577e-02,  1.98643044e-01, -1.39414430e-01],\n",
       "          [ 2.26610582e-02, -1.11291975e-01,  8.52263346e-03, ...,\n",
       "           -1.06633492e-02, -8.19464475e-02,  2.16912895e-01],\n",
       "          [ 7.54369125e-02, -4.79464233e-02, -1.39989570e-01, ...,\n",
       "           -3.02167296e-01, -1.16545387e-01, -3.78076702e-01],\n",
       "          [-2.26216495e-01, -5.77982068e-02,  1.19521387e-01, ...,\n",
       "            6.56503737e-02,  1.91059127e-01,  1.28188089e-01],\n",
       "          [-4.31673676e-02,  1.29298389e-01,  2.34335229e-01, ...,\n",
       "            2.94233292e-01,  6.50335401e-02,  2.59347171e-01],\n",
       "          [ 1.09719820e-01,  3.27438787e-02,  4.14250754e-02, ...,\n",
       "           -7.03007057e-02, -2.13130936e-01,  2.55390525e-01]]],\n",
       " \n",
       " \n",
       "        [[[-5.37016951e-02,  4.24068384e-02,  5.12937317e-03, ...,\n",
       "           -1.02523817e-02, -2.75891516e-02, -1.18650369e-01],\n",
       "          [ 1.57604367e-01,  1.51125146e-02,  1.68754477e-02, ...,\n",
       "            7.20282793e-02,  9.96473953e-02,  4.33637910e-02],\n",
       "          [ 9.72187892e-02, -3.88862677e-02,  5.66622466e-02, ...,\n",
       "            2.71329254e-01,  1.03784032e-01,  2.18875080e-01],\n",
       "          [ 6.52850606e-03,  5.23843825e-01, -1.76332474e-01, ...,\n",
       "           -8.61140713e-02, -4.50732885e-03, -3.68049555e-02],\n",
       "          [-1.02637627e-03,  2.56872386e-01, -2.82466143e-01, ...,\n",
       "           -4.62500423e-01, -1.97931230e-02, -9.03648883e-02],\n",
       "          [-2.10395013e-03,  4.72972840e-02,  2.01781064e-01, ...,\n",
       "            1.38952292e-03,  1.99408293e-01,  1.74578965e-01]],\n",
       " \n",
       "         [[ 5.01315556e-02, -1.17907658e-01,  2.01179788e-01, ...,\n",
       "           -4.97031864e-03, -1.66584998e-01, -1.12685151e-01],\n",
       "          [ 1.27215147e-01,  3.34549636e-01, -4.24115986e-01, ...,\n",
       "           -1.66231487e-03,  3.40323955e-01, -7.41461962e-02],\n",
       "          [-8.07347819e-02, -3.91875565e-01, -3.97872210e-01, ...,\n",
       "            1.66226730e-01, -5.84608987e-02,  1.43565744e-01],\n",
       "          [ 1.18567437e-01,  6.03364110e-01, -2.60127634e-01, ...,\n",
       "           -2.73841262e-01,  1.29914626e-01, -2.72175461e-01],\n",
       "          [ 1.30704314e-01,  2.04936117e-01,  2.96801031e-01, ...,\n",
       "           -5.43157995e-01, -8.79168138e-02, -2.21710131e-01],\n",
       "          [ 1.93022769e-02,  1.32292643e-01, -1.77035019e-01, ...,\n",
       "            9.96620022e-03,  2.02352002e-01,  2.68816590e-01]],\n",
       " \n",
       "         [[ 1.30462438e-01, -8.41287598e-02,  2.63165981e-01, ...,\n",
       "           -6.30240217e-02, -1.33146524e-01, -1.93661302e-01],\n",
       "          [-1.06559165e-01,  3.06448489e-01, -1.83051154e-01, ...,\n",
       "           -3.31493430e-02,  1.95609033e-01, -7.68864974e-02],\n",
       "          [-1.14556856e-01, -4.43749458e-01,  3.45433325e-01, ...,\n",
       "            7.28945076e-01, -9.16755795e-02,  3.05554062e-01],\n",
       "          [-9.46628749e-02,  3.60466659e-01, -6.09011799e-02, ...,\n",
       "           -5.84305704e-01,  2.83766091e-02, -3.06307942e-01],\n",
       "          [ 1.00598417e-01,  3.15858096e-01, -5.55692241e-02, ...,\n",
       "           -7.22431481e-01, -5.28157540e-02, -2.31311336e-01],\n",
       "          [-3.43718077e-03,  9.78726596e-02, -1.32493287e-01, ...,\n",
       "            1.20746568e-01,  5.79899810e-02,  4.08810675e-01]],\n",
       " \n",
       "         [[ 1.27762377e-01, -1.08659551e-01,  6.75900429e-02, ...,\n",
       "           -1.13106862e-01,  4.42090519e-02, -6.90802187e-02],\n",
       "          [-7.10775778e-02,  5.51224202e-02,  2.36135721e-01, ...,\n",
       "            4.57910076e-03, -3.32410485e-02,  8.81423429e-02],\n",
       "          [ 3.91433299e-01, -3.08581680e-01,  1.94793195e-01, ...,\n",
       "            5.90322912e-01, -2.60852367e-01,  1.15269147e-01],\n",
       "          [-4.51622568e-02,  2.12740749e-01,  1.85808271e-01, ...,\n",
       "           -4.48085159e-01,  2.24837451e-03, -3.42194080e-01],\n",
       "          [-2.14707941e-01,  2.94841856e-01, -1.07460320e-02, ...,\n",
       "           -6.77608132e-01, -4.34998795e-02, -3.24358344e-01],\n",
       "          [-1.05992341e-02,  1.32401839e-01,  7.05891326e-02, ...,\n",
       "            1.83017567e-01,  1.43355243e-02,  5.00177085e-01]],\n",
       " \n",
       "         [[ 4.57822718e-02, -1.06238471e-02,  1.31800905e-01, ...,\n",
       "            9.44062024e-02,  1.06871024e-01, -1.60013244e-01],\n",
       "          [ 6.36058226e-02,  9.13405865e-02,  7.03009665e-02, ...,\n",
       "            8.44137818e-02,  6.65711313e-02,  9.72112939e-02],\n",
       "          [ 2.23286107e-01, -2.16461897e-01, -1.88830033e-01, ...,\n",
       "            2.02679142e-01, -1.02929063e-01,  2.45853737e-01],\n",
       "          [-1.74953848e-01,  3.25805359e-02, -6.69174194e-02, ...,\n",
       "           -2.81152964e-01,  2.42512096e-02, -3.42739165e-01],\n",
       "          [-8.56705159e-02,  1.12438127e-01,  1.90404475e-01, ...,\n",
       "           -3.78937989e-01,  7.31517300e-02, -2.35030666e-01],\n",
       "          [ 1.19322956e-01, -3.53490300e-02,  1.67892933e-01, ...,\n",
       "            8.59619975e-02, -1.81221902e-01,  3.28626126e-01]]],\n",
       " \n",
       " \n",
       "        [[[-7.07674176e-02, -1.24523699e-01,  1.11894488e-01, ...,\n",
       "            1.41742960e-01, -1.48313522e-01,  4.10942780e-03],\n",
       "          [ 1.29645392e-01,  3.00679505e-01,  3.26716453e-02, ...,\n",
       "           -1.45207480e-01, -4.36038822e-02, -3.58528085e-02],\n",
       "          [ 2.45768860e-01, -1.89476922e-01, -1.76934786e-02, ...,\n",
       "           -1.56890228e-01,  6.15822524e-02, -7.25977197e-02],\n",
       "          [-1.72787998e-02,  3.60273480e-01,  6.16449071e-03, ...,\n",
       "            1.65847734e-01, -7.38083050e-02,  1.16025701e-01],\n",
       "          [-2.30637953e-01,  1.87065884e-01, -1.05452142e-03, ...,\n",
       "            1.28195465e-01,  8.75325054e-02,  9.84378010e-02],\n",
       "          [ 1.45138085e-01,  7.56937861e-02, -4.43049939e-03, ...,\n",
       "           -2.99303830e-01,  1.22107916e-01,  3.71562201e-05]],\n",
       " \n",
       "         [[ 2.36257147e-02, -1.86275318e-01,  2.36759022e-01, ...,\n",
       "            1.87319487e-01, -2.40877002e-01, -2.14594722e-01],\n",
       "          [ 1.97704196e-01,  1.71657681e-01, -2.40486965e-01, ...,\n",
       "           -3.15254092e-01, -1.35979000e-02, -3.18580642e-02],\n",
       "          [-1.09063357e-01,  8.82292017e-02, -1.20287858e-01, ...,\n",
       "           -1.05800055e-01,  9.77312252e-02, -2.46755928e-01],\n",
       "          [-1.46425366e-01, -1.30929932e-01, -1.22626297e-01, ...,\n",
       "           -2.64106356e-02, -1.95660427e-01,  1.01432301e-01],\n",
       "          [ 1.08645029e-01, -3.32613587e-01,  1.67705506e-01, ...,\n",
       "            3.30835760e-01, -2.00995088e-01,  1.49274647e-01],\n",
       "          [ 1.76026806e-01,  2.88785219e-01, -1.37900129e-01, ...,\n",
       "           -2.47729465e-01,  1.86484948e-01, -1.31223956e-02]],\n",
       " \n",
       "         [[ 1.66857585e-01, -1.89656600e-01,  1.70614347e-01, ...,\n",
       "            7.69487917e-02, -2.57776380e-01, -7.90176466e-02],\n",
       "          [-6.37720451e-02,  1.03312410e-01, -1.88821815e-02, ...,\n",
       "           -3.12144399e-01,  1.51900798e-01, -7.94388130e-02],\n",
       "          [-3.67818922e-02,  2.01799721e-01,  2.66182154e-01, ...,\n",
       "           -1.89067349e-02,  1.94452718e-01, -4.49104160e-02],\n",
       "          [-6.79879934e-02, -4.31613952e-01,  1.19433552e-01, ...,\n",
       "            5.71944676e-02, -3.13273758e-01,  9.07073077e-03],\n",
       "          [ 2.20910504e-01, -4.02718961e-01, -7.98984095e-02, ...,\n",
       "            2.00778306e-01, -1.11354060e-01,  4.20079492e-02],\n",
       "          [-7.14460611e-02,  1.77379817e-01, -1.24125965e-02, ...,\n",
       "           -3.78433853e-01,  1.09029561e-01,  1.95451617e-01]],\n",
       " \n",
       "         [[ 1.28130808e-01, -8.93398523e-02,  7.02554546e-03, ...,\n",
       "            1.22427382e-01, -1.09649226e-01, -1.10366657e-01],\n",
       "          [-2.93844808e-02, -2.50060037e-02,  2.32537866e-01, ...,\n",
       "           -1.25517458e-01,  1.00341082e-01, -2.58175105e-01],\n",
       "          [ 3.04719329e-01,  2.55947620e-01, -1.53601006e-01, ...,\n",
       "           -4.65241633e-02,  1.24994516e-02,  6.18975386e-02],\n",
       "          [ 8.36844593e-02, -2.63222128e-01,  2.23046392e-01, ...,\n",
       "           -9.70825925e-02, -1.17908143e-01, -3.01380575e-01],\n",
       "          [-1.12792477e-01, -3.49101990e-01, -9.06941444e-02, ...,\n",
       "            9.83753577e-02, -3.12753916e-02,  8.12037438e-02],\n",
       "          [-4.08934057e-02,  8.37358087e-02,  2.03495115e-01, ...,\n",
       "           -2.68547446e-01,  1.39505073e-01, -5.86039983e-02]],\n",
       " \n",
       "         [[-3.74444351e-02, -3.85919958e-02,  4.89122793e-02, ...,\n",
       "            9.41792652e-02, -3.46519500e-02, -9.37687457e-02],\n",
       "          [ 1.56564951e-01, -4.30032872e-02, -3.58796827e-02, ...,\n",
       "           -3.27573538e-01,  4.18605171e-02, -1.46517441e-01],\n",
       "          [ 2.83446044e-01, -8.10031127e-03, -2.32138708e-02, ...,\n",
       "            1.86284836e-02, -2.00529218e-01,  1.64831534e-01],\n",
       "          [ 4.68234345e-02, -6.25482500e-02, -2.22410291e-01, ...,\n",
       "           -2.00781211e-01,  1.15166597e-01, -3.77642751e-01],\n",
       "          [-1.62941083e-01, -1.64574295e-01, -4.73057628e-02, ...,\n",
       "            1.37222379e-01,  7.81743973e-02,  4.88490276e-02],\n",
       "          [ 9.04857740e-03,  2.49993545e-03,  6.73334301e-02, ...,\n",
       "           -7.66007006e-02,  4.56338637e-02,  3.10993027e-02]]],\n",
       " \n",
       " \n",
       "        [[[ 5.15581407e-02, -2.03096077e-01, -1.91623829e-02, ...,\n",
       "            1.14217706e-01, -1.02230348e-01, -1.81926534e-01],\n",
       "          [ 1.27343714e-01,  2.61189416e-02, -5.67547567e-02, ...,\n",
       "            2.78732330e-01, -7.69775361e-04, -7.33505422e-03],\n",
       "          [ 2.53618449e-01, -2.57124007e-02, -8.36294815e-02, ...,\n",
       "           -6.42769113e-02, -1.32883757e-01, -1.17000155e-01],\n",
       "          [ 3.03067025e-02, -3.38996857e-01,  5.15619591e-02, ...,\n",
       "            2.07787529e-01,  9.40420926e-02, -1.30299583e-01],\n",
       "          [-1.30101070e-01, -1.37665674e-01,  1.37955904e-01, ...,\n",
       "            4.15861346e-02,  3.35957073e-02,  4.76342067e-02],\n",
       "          [ 2.05167785e-01,  2.54214942e-01,  1.85593567e-03, ...,\n",
       "           -5.97614311e-02,  9.48866643e-03,  9.21798497e-02]],\n",
       " \n",
       "         [[-4.51387018e-02, -1.22308850e-01,  1.98432043e-01, ...,\n",
       "            1.85245275e-01, -1.29246026e-01, -8.99282396e-02],\n",
       "          [ 1.23709172e-01, -1.28707558e-01, -6.53424039e-02, ...,\n",
       "            2.66081750e-01,  1.83081105e-01, -1.48223296e-01],\n",
       "          [-5.69161735e-02,  6.11360520e-02, -1.64419353e-01, ...,\n",
       "           -1.75922483e-01, -9.50059444e-02,  1.62808057e-02],\n",
       "          [-1.40395835e-01, -2.54689932e-01, -4.83171791e-02, ...,\n",
       "            3.13936621e-01,  1.72013506e-01, -8.73116702e-02],\n",
       "          [-4.47584726e-02, -7.24473596e-02,  1.51230499e-01, ...,\n",
       "            2.07979977e-01,  1.45465024e-02, -4.58051860e-02],\n",
       "          [ 1.88482493e-01,  1.25630513e-01, -8.70326385e-02, ...,\n",
       "           -1.06783234e-01,  3.89020406e-02,  1.26819402e-01]],\n",
       " \n",
       "         [[ 1.10148050e-01, -1.35099534e-02,  1.60046488e-01, ...,\n",
       "            2.31924623e-01, -1.25245452e-01, -7.76853859e-02],\n",
       "          [ 1.15421284e-02,  4.81208488e-02,  1.28547132e-01, ...,\n",
       "            1.55664831e-01,  3.02635461e-01, -1.41660884e-01],\n",
       "          [-4.27662097e-02,  2.00417899e-02,  3.14630792e-02, ...,\n",
       "           -4.13353026e-01,  7.87916854e-02,  1.67855084e-01],\n",
       "          [-2.97720376e-02, -2.36654833e-01,  2.58753061e-01, ...,\n",
       "            4.82319921e-01,  1.89349040e-01, -1.65205061e-01],\n",
       "          [ 3.03757191e-01,  2.66239103e-02, -3.56522761e-02, ...,\n",
       "            3.15084100e-01, -1.48866743e-01, -1.51604071e-01],\n",
       "          [ 1.05116190e-02, -8.19036961e-02, -1.52228866e-02, ...,\n",
       "           -1.43181458e-01,  1.89128250e-01, -1.85249280e-02]],\n",
       " \n",
       "         [[-2.85086408e-02, -1.50290132e-01, -5.05570285e-02, ...,\n",
       "            2.47918576e-01, -8.97181109e-02,  1.32127136e-01],\n",
       "          [-6.06078655e-02,  4.04300392e-02,  2.99524181e-02, ...,\n",
       "           -5.85004203e-02,  4.01070952e-01, -7.14789033e-02],\n",
       "          [ 3.61395776e-02, -2.12264322e-02, -2.45724753e-01, ...,\n",
       "           -3.13921601e-01, -2.42905896e-02,  1.38696566e-01],\n",
       "          [ 1.09447293e-01, -5.07462136e-02,  8.64793509e-02, ...,\n",
       "            3.33301306e-01,  6.15122020e-02, -4.90135839e-03],\n",
       "          [ 8.55565965e-02, -1.14557415e-03, -1.09921016e-01, ...,\n",
       "            7.66316280e-02, -7.69262016e-02,  8.35751966e-02],\n",
       "          [-4.89534140e-02,  8.08762386e-03,  1.15910731e-01, ...,\n",
       "           -2.81973302e-01,  2.19209179e-01, -1.44198537e-01]],\n",
       " \n",
       "         [[ 5.00353873e-02, -9.25118029e-02, -1.09555520e-01, ...,\n",
       "            9.31958482e-02,  1.08461711e-03,  6.16168901e-02],\n",
       "          [-4.03801315e-02,  2.87266403e-01,  2.09912416e-02, ...,\n",
       "           -1.38165683e-01,  6.63114265e-02,  2.51014978e-01],\n",
       "          [ 1.77207142e-02, -1.07362852e-01,  8.38228390e-02, ...,\n",
       "            4.17710654e-02, -1.43739372e-01,  2.18830332e-02],\n",
       "          [ 1.49661973e-01,  1.84916824e-01, -3.38688612e-01, ...,\n",
       "            1.20206974e-01, -1.16710119e-01,  2.08172873e-01],\n",
       "          [ 9.05996412e-02,  5.75958304e-02, -5.16430400e-02, ...,\n",
       "            4.19835150e-02,  2.96147726e-02, -3.23490538e-02],\n",
       "          [ 1.46886870e-01,  4.57026623e-02,  1.22818150e-01, ...,\n",
       "           -9.63708311e-02,  1.50967315e-02,  8.17343742e-02]]]],\n",
       "       dtype=float32),\n",
       " array([ 0.03797995, -0.03778091,  0.0667784 , -0.05704441, -0.0885601 ,\n",
       "         0.09960724,  0.07259081,  0.04260207,  0.03882807,  0.0379797 ,\n",
       "        -0.06725114, -0.01863224, -0.06630102,  0.10375035,  0.10875492,\n",
       "         0.02691791], dtype=float32)]"
      ]
     },
     "execution_count": 96,
     "metadata": {},
     "output_type": "execute_result"
    }
   ],
   "source": [
    "lenet_5_model.layers[2].get_weights()"
   ]
  },
  {
   "cell_type": "code",
   "execution_count": null,
   "id": "50eb4d96-7814-4823-9075-15b7efe43768",
   "metadata": {},
   "outputs": [],
   "source": []
  },
  {
   "cell_type": "code",
   "execution_count": 98,
   "id": "3ed23218-fbe7-4360-b480-1170cd37dbdb",
   "metadata": {},
   "outputs": [
    {
     "data": {
      "text/plain": [
       "(5, 5, 6, 16)"
      ]
     },
     "execution_count": 98,
     "metadata": {},
     "output_type": "execute_result"
    }
   ],
   "source": [
    "a = lenet_5_model.layers[2].get_weights()[0]\n",
    "a.shape"
   ]
  },
  {
   "cell_type": "code",
   "execution_count": 100,
   "id": "f6478d29-15f6-4e94-896e-0f7f05c8d970",
   "metadata": {},
   "outputs": [],
   "source": [
    "f = open(\"conv2_w.txt\", \"w\")\n",
    "for i in range(16):\n",
    "    for j in range(6):\n",
    "        for k in range(5):\n",
    "            for n in range(5):\n",
    "                f.write(str(a[n][k][j][i])+'\\n')\n",
    "f.close()\n"
   ]
  },
  {
   "cell_type": "code",
   "execution_count": 65,
   "id": "5f003645-e9d5-4a7f-a844-6aaab44f9105",
   "metadata": {},
   "outputs": [
    {
     "data": {
      "text/plain": [
       "10"
      ]
     },
     "execution_count": 65,
     "metadata": {},
     "output_type": "execute_result"
    }
   ],
   "source": [
    "a.shape[1]"
   ]
  },
  {
   "cell_type": "code",
   "execution_count": null,
   "id": "03070ece-4317-4185-a538-1009705d9c8c",
   "metadata": {},
   "outputs": [],
   "source": []
  }
 ],
 "metadata": {
  "kernelspec": {
   "display_name": "Python 3",
   "language": "python",
   "name": "python3"
  },
  "language_info": {
   "codemirror_mode": {
    "name": "ipython",
    "version": 3
   },
   "file_extension": ".py",
   "mimetype": "text/x-python",
   "name": "python",
   "nbconvert_exporter": "python",
   "pygments_lexer": "ipython3",
   "version": "3.8.8"
  }
 },
 "nbformat": 4,
 "nbformat_minor": 5
}
